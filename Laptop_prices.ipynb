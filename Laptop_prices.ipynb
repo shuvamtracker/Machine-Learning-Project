{
  "nbformat": 4,
  "nbformat_minor": 0,
  "metadata": {
    "colab": {
      "name": "Laptop_prices.ipynb",
      "provenance": [],
      "collapsed_sections": [],
      "authorship_tag": "ABX9TyNj7N71HTv6vztCtQl5UM+n",
      "include_colab_link": true
    },
    "kernelspec": {
      "name": "python3",
      "display_name": "Python 3"
    }
  },
  "cells": [
    {
      "cell_type": "code",
      "metadata": {
        "id": "yRnHLFOFnLNP",
        "colab_type": "code",
        "colab": {}
      },
      "source": [
        "import pandas as pd\n",
        "import matplotlib.pyplot as plt\n",
        "from sklearn.model_selection import train_test_split"
      ],
      "execution_count": 55,
      "outputs": []
    },
    {
      "cell_type": "code",
      "metadata": {
        "id": "RoCU5XXFqWEB",
        "colab_type": "code",
        "colab": {}
      },
      "source": [
        "path_to_csv = \"/content/laptops.csv\"\n",
        "data = pd.read_csv(path_to_csv,encoding=\"ISO-8859–1\",index_col=False)"
      ],
      "execution_count": 56,
      "outputs": []
    },
    {
      "cell_type": "code",
      "metadata": {
        "id": "Glb0GiBYzjTg",
        "colab_type": "code",
        "colab": {}
      },
      "source": [
        "# remove \"Unnamed: 0\" column\n",
        "del data['Unnamed: 0']"
      ],
      "execution_count": 57,
      "outputs": []
    },
    {
      "cell_type": "code",
      "metadata": {
        "id": "HbPGOdn0thra",
        "colab_type": "code",
        "colab": {
          "base_uri": "https://localhost:8080/",
          "height": 544
        },
        "outputId": "f6f38230-95d9-4b15-e2e9-e5682d54ad1b"
      },
      "source": [
        "print(\"Before -- \\n\\n\",data.dtypes)\n",
        "\n",
        "# extract \"float value\" from \"Weight\" column (for example. \"1.2kg\" to 1.2)\n",
        "data['Weight'] = data['Weight'].str.extract('(\\d+.\\d+|\\d+)').astype(float)\n",
        "data['Weight']\n",
        "\n",
        "# extract \"int value\" from \"Ram\" column (for example. \"16gb\" to 16)\n",
        "data['Ram'] = data['Ram'].str.extract('(\\d+)').astype(int)\n",
        "data['Ram']\n",
        "\n",
        "print()\n",
        "print(\"After --\\n\\n \",data.dtypes)"
      ],
      "execution_count": 58,
      "outputs": [
        {
          "output_type": "stream",
          "text": [
            "Before -- \n",
            "\n",
            " Company              object\n",
            "Product              object\n",
            "TypeName             object\n",
            "Inches              float64\n",
            "ScreenResolution     object\n",
            "Cpu                  object\n",
            "Ram                  object\n",
            "Memory               object\n",
            "Gpu                  object\n",
            "OpSys                object\n",
            "Weight               object\n",
            "Price_euros         float64\n",
            "dtype: object\n",
            "\n",
            "After --\n",
            "\n",
            "  Company              object\n",
            "Product              object\n",
            "TypeName             object\n",
            "Inches              float64\n",
            "ScreenResolution     object\n",
            "Cpu                  object\n",
            "Ram                   int64\n",
            "Memory               object\n",
            "Gpu                  object\n",
            "OpSys                object\n",
            "Weight              float64\n",
            "Price_euros         float64\n",
            "dtype: object\n"
          ],
          "name": "stdout"
        }
      ]
    },
    {
      "cell_type": "code",
      "metadata": {
        "id": "4yhUP7LHKS69",
        "colab_type": "code",
        "colab": {}
      },
      "source": [
        "# conversion of 'Price_euros' to 'Price_rupees'\n",
        "data['Price_rupees'] = 86.93 * data['Price_euros']\n",
        "\n",
        "# drop 'Price_euros' column\n",
        "data.drop(columns=['Price_euros'],inplace=True)"
      ],
      "execution_count": 59,
      "outputs": []
    },
    {
      "cell_type": "code",
      "metadata": {
        "id": "J3OzlcSMiKru",
        "colab_type": "code",
        "colab": {}
      },
      "source": [
        "# Using List comprehension for extracting categorical column names \n",
        "col = [feature for feature in data.columns if data[feature].dtype == 'O']"
      ],
      "execution_count": 60,
      "outputs": []
    },
    {
      "cell_type": "code",
      "metadata": {
        "id": "tAHZsZ7r4MDi",
        "colab_type": "code",
        "colab": {}
      },
      "source": [
        "for feature in col:\n",
        "    labels_ordered= data.groupby([feature])['Price_rupees'].mean().sort_values().index\n",
        "    labels_ordered={k:i for i,k in enumerate(labels_ordered,0)}\n",
        "    data[feature]=data[feature].map(labels_ordered)\n",
        "    # print(labels_ordered)"
      ],
      "execution_count": 61,
      "outputs": []
    },
    {
      "cell_type": "code",
      "metadata": {
        "id": "Fq52P2keHL8g",
        "colab_type": "code",
        "colab": {
          "base_uri": "https://localhost:8080/",
          "height": 419
        },
        "outputId": "b5b51c00-982a-4207-d3b6-6c5d082a9cdf"
      },
      "source": [
        "data"
      ],
      "execution_count": 62,
      "outputs": [
        {
          "output_type": "execute_result",
          "data": {
            "text/html": [
              "<div>\n",
              "<style scoped>\n",
              "    .dataframe tbody tr th:only-of-type {\n",
              "        vertical-align: middle;\n",
              "    }\n",
              "\n",
              "    .dataframe tbody tr th {\n",
              "        vertical-align: top;\n",
              "    }\n",
              "\n",
              "    .dataframe thead th {\n",
              "        text-align: right;\n",
              "    }\n",
              "</style>\n",
              "<table border=\"1\" class=\"dataframe\">\n",
              "  <thead>\n",
              "    <tr style=\"text-align: right;\">\n",
              "      <th></th>\n",
              "      <th>Company</th>\n",
              "      <th>Product</th>\n",
              "      <th>TypeName</th>\n",
              "      <th>Inches</th>\n",
              "      <th>ScreenResolution</th>\n",
              "      <th>Cpu</th>\n",
              "      <th>Ram</th>\n",
              "      <th>Memory</th>\n",
              "      <th>Gpu</th>\n",
              "      <th>OpSys</th>\n",
              "      <th>Weight</th>\n",
              "      <th>Price_rupees</th>\n",
              "    </tr>\n",
              "  </thead>\n",
              "  <tbody>\n",
              "    <tr>\n",
              "      <th>0</th>\n",
              "      <td>13</td>\n",
              "      <td>559</td>\n",
              "      <td>3</td>\n",
              "      <td>13.3</td>\n",
              "      <td>26</td>\n",
              "      <td>85</td>\n",
              "      <td>8</td>\n",
              "      <td>13</td>\n",
              "      <td>80</td>\n",
              "      <td>8</td>\n",
              "      <td>1.37</td>\n",
              "      <td>116459.2517</td>\n",
              "    </tr>\n",
              "    <tr>\n",
              "      <th>1</th>\n",
              "      <td>13</td>\n",
              "      <td>333</td>\n",
              "      <td>3</td>\n",
              "      <td>13.3</td>\n",
              "      <td>13</td>\n",
              "      <td>64</td>\n",
              "      <td>8</td>\n",
              "      <td>14</td>\n",
              "      <td>45</td>\n",
              "      <td>8</td>\n",
              "      <td>1.34</td>\n",
              "      <td>78144.8542</td>\n",
              "    </tr>\n",
              "    <tr>\n",
              "      <th>2</th>\n",
              "      <td>5</td>\n",
              "      <td>107</td>\n",
              "      <td>1</td>\n",
              "      <td>15.6</td>\n",
              "      <td>15</td>\n",
              "      <td>58</td>\n",
              "      <td>8</td>\n",
              "      <td>20</td>\n",
              "      <td>54</td>\n",
              "      <td>2</td>\n",
              "      <td>1.86</td>\n",
              "      <td>49984.7500</td>\n",
              "    </tr>\n",
              "    <tr>\n",
              "      <th>3</th>\n",
              "      <td>13</td>\n",
              "      <td>559</td>\n",
              "      <td>3</td>\n",
              "      <td>15.4</td>\n",
              "      <td>36</td>\n",
              "      <td>111</td>\n",
              "      <td>16</td>\n",
              "      <td>30</td>\n",
              "      <td>95</td>\n",
              "      <td>8</td>\n",
              "      <td>1.83</td>\n",
              "      <td>220580.5285</td>\n",
              "    </tr>\n",
              "    <tr>\n",
              "      <th>4</th>\n",
              "      <td>13</td>\n",
              "      <td>559</td>\n",
              "      <td>3</td>\n",
              "      <td>13.3</td>\n",
              "      <td>26</td>\n",
              "      <td>99</td>\n",
              "      <td>8</td>\n",
              "      <td>20</td>\n",
              "      <td>84</td>\n",
              "      <td>8</td>\n",
              "      <td>1.37</td>\n",
              "      <td>156786.9480</td>\n",
              "    </tr>\n",
              "    <tr>\n",
              "      <th>...</th>\n",
              "      <td>...</td>\n",
              "      <td>...</td>\n",
              "      <td>...</td>\n",
              "      <td>...</td>\n",
              "      <td>...</td>\n",
              "      <td>...</td>\n",
              "      <td>...</td>\n",
              "      <td>...</td>\n",
              "      <td>...</td>\n",
              "      <td>...</td>\n",
              "      <td>...</td>\n",
              "      <td>...</td>\n",
              "    </tr>\n",
              "    <tr>\n",
              "      <th>1298</th>\n",
              "      <td>6</td>\n",
              "      <td>193</td>\n",
              "      <td>2</td>\n",
              "      <td>14.0</td>\n",
              "      <td>16</td>\n",
              "      <td>77</td>\n",
              "      <td>4</td>\n",
              "      <td>13</td>\n",
              "      <td>47</td>\n",
              "      <td>4</td>\n",
              "      <td>1.80</td>\n",
              "      <td>55461.3400</td>\n",
              "    </tr>\n",
              "    <tr>\n",
              "      <th>1299</th>\n",
              "      <td>6</td>\n",
              "      <td>473</td>\n",
              "      <td>2</td>\n",
              "      <td>13.3</td>\n",
              "      <td>22</td>\n",
              "      <td>77</td>\n",
              "      <td>16</td>\n",
              "      <td>30</td>\n",
              "      <td>47</td>\n",
              "      <td>4</td>\n",
              "      <td>1.30</td>\n",
              "      <td>130308.0700</td>\n",
              "    </tr>\n",
              "    <tr>\n",
              "      <th>1300</th>\n",
              "      <td>6</td>\n",
              "      <td>12</td>\n",
              "      <td>1</td>\n",
              "      <td>14.0</td>\n",
              "      <td>6</td>\n",
              "      <td>16</td>\n",
              "      <td>2</td>\n",
              "      <td>6</td>\n",
              "      <td>6</td>\n",
              "      <td>4</td>\n",
              "      <td>1.50</td>\n",
              "      <td>19906.9700</td>\n",
              "    </tr>\n",
              "    <tr>\n",
              "      <th>1301</th>\n",
              "      <td>5</td>\n",
              "      <td>243</td>\n",
              "      <td>1</td>\n",
              "      <td>15.6</td>\n",
              "      <td>6</td>\n",
              "      <td>77</td>\n",
              "      <td>6</td>\n",
              "      <td>12</td>\n",
              "      <td>32</td>\n",
              "      <td>4</td>\n",
              "      <td>2.19</td>\n",
              "      <td>66414.5200</td>\n",
              "    </tr>\n",
              "    <tr>\n",
              "      <th>1302</th>\n",
              "      <td>7</td>\n",
              "      <td>69</td>\n",
              "      <td>1</td>\n",
              "      <td>15.6</td>\n",
              "      <td>6</td>\n",
              "      <td>16</td>\n",
              "      <td>4</td>\n",
              "      <td>9</td>\n",
              "      <td>6</td>\n",
              "      <td>4</td>\n",
              "      <td>2.20</td>\n",
              "      <td>32077.1700</td>\n",
              "    </tr>\n",
              "  </tbody>\n",
              "</table>\n",
              "<p>1303 rows × 12 columns</p>\n",
              "</div>"
            ],
            "text/plain": [
              "      Company  Product  TypeName  Inches  ...  Gpu  OpSys  Weight  Price_rupees\n",
              "0          13      559         3    13.3  ...   80      8    1.37   116459.2517\n",
              "1          13      333         3    13.3  ...   45      8    1.34    78144.8542\n",
              "2           5      107         1    15.6  ...   54      2    1.86    49984.7500\n",
              "3          13      559         3    15.4  ...   95      8    1.83   220580.5285\n",
              "4          13      559         3    13.3  ...   84      8    1.37   156786.9480\n",
              "...       ...      ...       ...     ...  ...  ...    ...     ...           ...\n",
              "1298        6      193         2    14.0  ...   47      4    1.80    55461.3400\n",
              "1299        6      473         2    13.3  ...   47      4    1.30   130308.0700\n",
              "1300        6       12         1    14.0  ...    6      4    1.50    19906.9700\n",
              "1301        5      243         1    15.6  ...   32      4    2.19    66414.5200\n",
              "1302        7       69         1    15.6  ...    6      4    2.20    32077.1700\n",
              "\n",
              "[1303 rows x 12 columns]"
            ]
          },
          "metadata": {
            "tags": []
          },
          "execution_count": 62
        }
      ]
    },
    {
      "cell_type": "code",
      "metadata": {
        "id": "Be9Mjg__mW8p",
        "colab_type": "code",
        "colab": {
          "base_uri": "https://localhost:8080/",
          "height": 493
        },
        "outputId": "d5d957bf-a22f-4015-9caf-5d244e56abac"
      },
      "source": [
        "print(\"DataTypes-\",data.dtypes,\"\\n\")\n",
        "print(\"Is it null - \\n\",data.isnull().sum())"
      ],
      "execution_count": 63,
      "outputs": [
        {
          "output_type": "stream",
          "text": [
            "DataTypes- Company               int64\n",
            "Product               int64\n",
            "TypeName              int64\n",
            "Inches              float64\n",
            "ScreenResolution      int64\n",
            "Cpu                   int64\n",
            "Ram                   int64\n",
            "Memory                int64\n",
            "Gpu                   int64\n",
            "OpSys                 int64\n",
            "Weight              float64\n",
            "Price_rupees        float64\n",
            "dtype: object \n",
            "\n",
            "Is it null - \n",
            " Company             0\n",
            "Product             0\n",
            "TypeName            0\n",
            "Inches              0\n",
            "ScreenResolution    0\n",
            "Cpu                 0\n",
            "Ram                 0\n",
            "Memory              0\n",
            "Gpu                 0\n",
            "OpSys               0\n",
            "Weight              0\n",
            "Price_rupees        0\n",
            "dtype: int64\n"
          ],
          "name": "stdout"
        }
      ]
    },
    {
      "cell_type": "code",
      "metadata": {
        "id": "P7SIzhYm-l3_",
        "colab_type": "code",
        "colab": {}
      },
      "source": [
        "# target variable\n",
        "target_variable = 'Price_rupees'\n",
        "y = data[target_variable]\n",
        "\n",
        "# features\n",
        "X = data[data.columns.difference([target_variable])]"
      ],
      "execution_count": 64,
      "outputs": []
    },
    {
      "cell_type": "code",
      "metadata": {
        "id": "G6b8RMM62llo",
        "colab_type": "code",
        "colab": {}
      },
      "source": [
        "# split dataset\n",
        "X_train,X_test,y_train,y_test = train_test_split(X,y,test_size=0.30)"
      ],
      "execution_count": 65,
      "outputs": []
    },
    {
      "cell_type": "markdown",
      "metadata": {
        "id": "ZBRgV9KJSjjw",
        "colab_type": "text"
      },
      "source": [
        "# Linear Regression"
      ]
    },
    {
      "cell_type": "code",
      "metadata": {
        "id": "yISzwPoISnBk",
        "colab_type": "code",
        "colab": {}
      },
      "source": [
        "from sklearn.linear_model import LinearRegression"
      ],
      "execution_count": 66,
      "outputs": []
    },
    {
      "cell_type": "code",
      "metadata": {
        "id": "N5ME9TGlSxzS",
        "colab_type": "code",
        "colab": {}
      },
      "source": [
        "lr_model = LinearRegression().fit(X_train,y_train)"
      ],
      "execution_count": 67,
      "outputs": []
    },
    {
      "cell_type": "code",
      "metadata": {
        "id": "KQJ2ewLWMijw",
        "colab_type": "code",
        "colab": {
          "base_uri": "https://localhost:8080/",
          "height": 34
        },
        "outputId": "6932b05f-082d-493d-d97d-866487243954"
      },
      "source": [
        "lr_model.score(X_train,y_train) # train-set score"
      ],
      "execution_count": 68,
      "outputs": [
        {
          "output_type": "execute_result",
          "data": {
            "text/plain": [
              "0.8484387773238823"
            ]
          },
          "metadata": {
            "tags": []
          },
          "execution_count": 68
        }
      ]
    },
    {
      "cell_type": "code",
      "metadata": {
        "id": "T5TZwxl8Miu2",
        "colab_type": "code",
        "colab": {
          "base_uri": "https://localhost:8080/",
          "height": 34
        },
        "outputId": "ef1ed593-e7f4-4490-ec69-912c0dfafe24"
      },
      "source": [
        "lr_model.score(X_test,y_test) # test-set score"
      ],
      "execution_count": 69,
      "outputs": [
        {
          "output_type": "execute_result",
          "data": {
            "text/plain": [
              "0.881981589265236"
            ]
          },
          "metadata": {
            "tags": []
          },
          "execution_count": 69
        }
      ]
    },
    {
      "cell_type": "code",
      "metadata": {
        "id": "aPiOb7ahrO1v",
        "colab_type": "code",
        "colab": {}
      },
      "source": [
        "# prediction\n",
        "y_pred_lr = lr_model.predict(X_test) "
      ],
      "execution_count": 70,
      "outputs": []
    },
    {
      "cell_type": "markdown",
      "metadata": {
        "id": "r6NtkaO6NOe3",
        "colab_type": "text"
      },
      "source": [
        "# Random Forest Regressor"
      ]
    },
    {
      "cell_type": "code",
      "metadata": {
        "id": "Y5CI0LUuNV8p",
        "colab_type": "code",
        "colab": {}
      },
      "source": [
        "from sklearn.ensemble import RandomForestRegressor"
      ],
      "execution_count": 71,
      "outputs": []
    },
    {
      "cell_type": "code",
      "metadata": {
        "id": "Gh4y7QgbkqZa",
        "colab_type": "code",
        "colab": {}
      },
      "source": [
        "rfr_model = RandomForestRegressor().fit(X_train,y_train)"
      ],
      "execution_count": 72,
      "outputs": []
    },
    {
      "cell_type": "code",
      "metadata": {
        "id": "cKnUG65fn_0S",
        "colab_type": "code",
        "colab": {
          "base_uri": "https://localhost:8080/",
          "height": 34
        },
        "outputId": "9ed18f81-61a9-4acf-daba-b3870093253c"
      },
      "source": [
        "rfr_model.score(X_train,y_train) # train-set score"
      ],
      "execution_count": 73,
      "outputs": [
        {
          "output_type": "execute_result",
          "data": {
            "text/plain": [
              "0.988548133817297"
            ]
          },
          "metadata": {
            "tags": []
          },
          "execution_count": 73
        }
      ]
    },
    {
      "cell_type": "code",
      "metadata": {
        "id": "xZgpZ4csoUe6",
        "colab_type": "code",
        "colab": {
          "base_uri": "https://localhost:8080/",
          "height": 34
        },
        "outputId": "920b71eb-c889-4e97-81b7-f5a48f33ee87"
      },
      "source": [
        "rfr_model.score(X_test,y_test) # test-set score"
      ],
      "execution_count": 74,
      "outputs": [
        {
          "output_type": "execute_result",
          "data": {
            "text/plain": [
              "0.9408862641457855"
            ]
          },
          "metadata": {
            "tags": []
          },
          "execution_count": 74
        }
      ]
    },
    {
      "cell_type": "code",
      "metadata": {
        "id": "kG3lsuN7qe8L",
        "colab_type": "code",
        "colab": {}
      },
      "source": [
        "y_pred_rfr = rfr_model.predict(X_test)"
      ],
      "execution_count": 75,
      "outputs": []
    },
    {
      "cell_type": "markdown",
      "metadata": {
        "id": "r_MREmvAvDGs",
        "colab_type": "text"
      },
      "source": [
        "# Linear Support Vector Regression"
      ]
    },
    {
      "cell_type": "code",
      "metadata": {
        "id": "V5WFFvOPvITU",
        "colab_type": "code",
        "colab": {}
      },
      "source": [
        "from sklearn.svm import LinearSVR"
      ],
      "execution_count": 76,
      "outputs": []
    },
    {
      "cell_type": "code",
      "metadata": {
        "id": "W_5Ae5ODvRqn",
        "colab_type": "code",
        "colab": {}
      },
      "source": [
        "svrLIr_model = LinearSVR().fit(X_train,y_train)"
      ],
      "execution_count": 77,
      "outputs": []
    },
    {
      "cell_type": "code",
      "metadata": {
        "id": "ydGfKq_Gvh6G",
        "colab_type": "code",
        "colab": {
          "base_uri": "https://localhost:8080/",
          "height": 34
        },
        "outputId": "9d30f5d5-9b57-4246-a4a3-367ab48cbfe3"
      },
      "source": [
        "svrLIr_model.score(X_train,y_train) # train-set score"
      ],
      "execution_count": 78,
      "outputs": [
        {
          "output_type": "execute_result",
          "data": {
            "text/plain": [
              "0.7797945716025813"
            ]
          },
          "metadata": {
            "tags": []
          },
          "execution_count": 78
        }
      ]
    },
    {
      "cell_type": "code",
      "metadata": {
        "id": "iGlXMj9rv6Rp",
        "colab_type": "code",
        "colab": {
          "base_uri": "https://localhost:8080/",
          "height": 34
        },
        "outputId": "b9bf9b58-0afc-4dd0-fee3-1bcf264163a6"
      },
      "source": [
        "svrLIr_model.score(X_test,y_test) # test-set score"
      ],
      "execution_count": 79,
      "outputs": [
        {
          "output_type": "execute_result",
          "data": {
            "text/plain": [
              "0.8461164386209666"
            ]
          },
          "metadata": {
            "tags": []
          },
          "execution_count": 79
        }
      ]
    },
    {
      "cell_type": "code",
      "metadata": {
        "id": "zsAx2QV0wpdI",
        "colab_type": "code",
        "colab": {}
      },
      "source": [
        "y_pred_svrLIr = svrLIr_model.predict(X_test)"
      ],
      "execution_count": 80,
      "outputs": []
    },
    {
      "cell_type": "markdown",
      "metadata": {
        "id": "bjkbFpnmw5GM",
        "colab_type": "text"
      },
      "source": [
        "# K Nearest neighbors Regressor"
      ]
    },
    {
      "cell_type": "code",
      "metadata": {
        "id": "ied9EGIww68E",
        "colab_type": "code",
        "colab": {}
      },
      "source": [
        "from sklearn.neighbors import KNeighborsRegressor"
      ],
      "execution_count": 81,
      "outputs": []
    },
    {
      "cell_type": "code",
      "metadata": {
        "id": "0wAESt0pw_6q",
        "colab_type": "code",
        "colab": {}
      },
      "source": [
        "knr_model = KNeighborsRegressor().fit(X_train,y_train)"
      ],
      "execution_count": 82,
      "outputs": []
    },
    {
      "cell_type": "code",
      "metadata": {
        "id": "Bj3NbtzLzv-P",
        "colab_type": "code",
        "colab": {
          "base_uri": "https://localhost:8080/",
          "height": 34
        },
        "outputId": "820d6945-fb4f-406e-e79d-4af0609207a6"
      },
      "source": [
        "knr_model.score(X_train,y_train) # train-set score"
      ],
      "execution_count": 83,
      "outputs": [
        {
          "output_type": "execute_result",
          "data": {
            "text/plain": [
              "0.9422763541287311"
            ]
          },
          "metadata": {
            "tags": []
          },
          "execution_count": 83
        }
      ]
    },
    {
      "cell_type": "code",
      "metadata": {
        "id": "-tYqFNqq0DFk",
        "colab_type": "code",
        "colab": {
          "base_uri": "https://localhost:8080/",
          "height": 34
        },
        "outputId": "1566ea1e-1fd9-41d6-ff66-7784d695e45c"
      },
      "source": [
        "knr_model.score(X_test,y_test) # test-set score"
      ],
      "execution_count": 84,
      "outputs": [
        {
          "output_type": "execute_result",
          "data": {
            "text/plain": [
              "0.9264598629549512"
            ]
          },
          "metadata": {
            "tags": []
          },
          "execution_count": 84
        }
      ]
    }
  ]
}
